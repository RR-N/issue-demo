{
 "cells": [
  {
   "cell_type": "code",
   "execution_count": 1,
   "id": "0869fe52",
   "metadata": {},
   "outputs": [],
   "source": [
    "import os\n",
    "import sys\n",
    "import h5py\n",
    "import numpy as np\n",
    "import pandas as pd\n",
    "\n",
    "from pynwb import NWBFile, NWBHDF5IO\n",
    "from pynwb.ophys import ImageSegmentation, PlaneSegmentation"
   ]
  },
  {
   "cell_type": "code",
   "execution_count": 2,
   "id": "90680a9b",
   "metadata": {},
   "outputs": [],
   "source": [
    "pos_array = np.random.uniform(0, 1, size=(4, 3)).astype(float)\n",
    "\n",
    "x = pos_array[:, 0]\n",
    "y = pos_array[:, 1]\n",
    "z = pos_array[:, 2]\n",
    "t = np.arange(0, 4)\n",
    "\n",
    "wlid = ['Name 1', 'Name 2', 'Name 3', 'Name 4']\n",
    "\n",
    "old_file = 'old_file.nwb'\n",
    "new_file = 'new_file.nwb'"
   ]
  },
  {
   "cell_type": "code",
   "execution_count": 3,
   "id": "ca551214",
   "metadata": {},
   "outputs": [
    {
     "ename": "FileNotFoundError",
     "evalue": "[Errno 2] Unable to synchronously open file (unable to open file: name = 'old_file.nwb', errno = 2, error message = 'No such file or directory', flags = 0, o_flags = 0)",
     "output_type": "error",
     "traceback": [
      "\u001b[1;31m---------------------------------------------------------------------------\u001b[0m",
      "\u001b[1;31mFileNotFoundError\u001b[0m                         Traceback (most recent call last)",
      "Cell \u001b[1;32mIn[3], line 2\u001b[0m\n\u001b[0;32m      1\u001b[0m \u001b[38;5;66;03m# Open nwb file\u001b[39;00m\n\u001b[1;32m----> 2\u001b[0m io \u001b[38;5;241m=\u001b[39m \u001b[43mNWBHDF5IO\u001b[49m\u001b[43m(\u001b[49m\u001b[43mold_file\u001b[49m\u001b[43m,\u001b[49m\u001b[43m \u001b[49m\u001b[43mmode\u001b[49m\u001b[38;5;241;43m=\u001b[39;49m\u001b[38;5;124;43m\"\u001b[39;49m\u001b[38;5;124;43mr\u001b[39;49m\u001b[38;5;124;43m\"\u001b[39;49m\u001b[43m)\u001b[49m\n\u001b[0;32m      3\u001b[0m nwbfile \u001b[38;5;241m=\u001b[39m io\u001b[38;5;241m.\u001b[39mread()\n\u001b[0;32m      5\u001b[0m \u001b[38;5;66;03m# Grab existing object's ImagingVolume\u001b[39;00m\n",
      "File \u001b[1;32m~\\AppData\\Local\\Programs\\Python\\Python310\\lib\\site-packages\\hdmf\\utils.py:668\u001b[0m, in \u001b[0;36mdocval.<locals>.dec.<locals>.func_call\u001b[1;34m(*args, **kwargs)\u001b[0m\n\u001b[0;32m    666\u001b[0m \u001b[38;5;28;01mdef\u001b[39;00m \u001b[38;5;21mfunc_call\u001b[39m(\u001b[38;5;241m*\u001b[39margs, \u001b[38;5;241m*\u001b[39m\u001b[38;5;241m*\u001b[39mkwargs):\n\u001b[0;32m    667\u001b[0m     pargs \u001b[38;5;241m=\u001b[39m _check_args(args, kwargs)\n\u001b[1;32m--> 668\u001b[0m     \u001b[38;5;28;01mreturn\u001b[39;00m func(args[\u001b[38;5;241m0\u001b[39m], \u001b[38;5;241m*\u001b[39m\u001b[38;5;241m*\u001b[39mpargs)\n",
      "File \u001b[1;32m~\\AppData\\Local\\Programs\\Python\\Python310\\lib\\site-packages\\pynwb\\__init__.py:274\u001b[0m, in \u001b[0;36mNWBHDF5IO.__init__\u001b[1;34m(self, **kwargs)\u001b[0m\n\u001b[0;32m    272\u001b[0m \u001b[38;5;28;01mif\u001b[39;00m load_namespaces:\n\u001b[0;32m    273\u001b[0m     tm \u001b[38;5;241m=\u001b[39m get_type_map()\n\u001b[1;32m--> 274\u001b[0m     \u001b[38;5;28;43msuper\u001b[39;49m\u001b[43m(\u001b[49m\u001b[43m)\u001b[49m\u001b[38;5;241;43m.\u001b[39;49m\u001b[43mload_namespaces\u001b[49m\u001b[43m(\u001b[49m\u001b[43mtm\u001b[49m\u001b[43m,\u001b[49m\u001b[43m \u001b[49m\u001b[43mpath\u001b[49m\u001b[43m,\u001b[49m\u001b[43m \u001b[49m\u001b[43mfile\u001b[49m\u001b[38;5;241;43m=\u001b[39;49m\u001b[43mfile_obj\u001b[49m\u001b[43m,\u001b[49m\u001b[43m \u001b[49m\u001b[43mdriver\u001b[49m\u001b[38;5;241;43m=\u001b[39;49m\u001b[43mdriver\u001b[49m\u001b[43m)\u001b[49m\n\u001b[0;32m    275\u001b[0m     manager \u001b[38;5;241m=\u001b[39m BuildManager(tm)\n\u001b[0;32m    277\u001b[0m     \u001b[38;5;66;03m# XXX: Leaving this here in case we want to revert to this strategy for\u001b[39;00m\n\u001b[0;32m    278\u001b[0m     \u001b[38;5;66;03m#      loading cached namespaces\u001b[39;00m\n\u001b[0;32m    279\u001b[0m     \u001b[38;5;66;03m# ns_catalog = NamespaceCatalog(NWBGroupSpec, NWBDatasetSpec, NWBNamespace)\u001b[39;00m\n\u001b[1;32m   (...)\u001b[0m\n\u001b[0;32m    282\u001b[0m     \u001b[38;5;66;03m# tm.copy_mappers(get_type_map())\u001b[39;00m\n\u001b[0;32m    283\u001b[0m \u001b[38;5;28;01melse\u001b[39;00m:\n",
      "File \u001b[1;32m~\\AppData\\Local\\Programs\\Python\\Python310\\lib\\site-packages\\hdmf\\utils.py:668\u001b[0m, in \u001b[0;36mdocval.<locals>.dec.<locals>.func_call\u001b[1;34m(*args, **kwargs)\u001b[0m\n\u001b[0;32m    666\u001b[0m \u001b[38;5;28;01mdef\u001b[39;00m \u001b[38;5;21mfunc_call\u001b[39m(\u001b[38;5;241m*\u001b[39margs, \u001b[38;5;241m*\u001b[39m\u001b[38;5;241m*\u001b[39mkwargs):\n\u001b[0;32m    667\u001b[0m     pargs \u001b[38;5;241m=\u001b[39m _check_args(args, kwargs)\n\u001b[1;32m--> 668\u001b[0m     \u001b[38;5;28;01mreturn\u001b[39;00m func(args[\u001b[38;5;241m0\u001b[39m], \u001b[38;5;241m*\u001b[39m\u001b[38;5;241m*\u001b[39mpargs)\n",
      "File \u001b[1;32m~\\AppData\\Local\\Programs\\Python\\Python310\\lib\\site-packages\\hdmf\\backends\\hdf5\\h5tools.py:169\u001b[0m, in \u001b[0;36mHDF5IO.load_namespaces\u001b[1;34m(cls, **kwargs)\u001b[0m\n\u001b[0;32m    158\u001b[0m \u001b[38;5;250m\u001b[39m\u001b[38;5;124;03m\"\"\"Load cached namespaces from a file.\u001b[39;00m\n\u001b[0;32m    159\u001b[0m \n\u001b[0;32m    160\u001b[0m \u001b[38;5;124;03mIf `file` is not supplied, then an :py:class:`h5py.File` object will be opened for the given `path`, the\u001b[39;00m\n\u001b[1;32m   (...)\u001b[0m\n\u001b[0;32m    164\u001b[0m \u001b[38;5;124;03m:raises ValueError: if both `path` and `file` are supplied but `path` is not the same as the path of `file`.\u001b[39;00m\n\u001b[0;32m    165\u001b[0m \u001b[38;5;124;03m\"\"\"\u001b[39;00m\n\u001b[0;32m    166\u001b[0m namespace_catalog, path, namespaces, file_obj, driver \u001b[38;5;241m=\u001b[39m popargs(\n\u001b[0;32m    167\u001b[0m     \u001b[38;5;124m'\u001b[39m\u001b[38;5;124mnamespace_catalog\u001b[39m\u001b[38;5;124m'\u001b[39m, \u001b[38;5;124m'\u001b[39m\u001b[38;5;124mpath\u001b[39m\u001b[38;5;124m'\u001b[39m, \u001b[38;5;124m'\u001b[39m\u001b[38;5;124mnamespaces\u001b[39m\u001b[38;5;124m'\u001b[39m, \u001b[38;5;124m'\u001b[39m\u001b[38;5;124mfile\u001b[39m\u001b[38;5;124m'\u001b[39m, \u001b[38;5;124m'\u001b[39m\u001b[38;5;124mdriver\u001b[39m\u001b[38;5;124m'\u001b[39m, kwargs)\n\u001b[1;32m--> 169\u001b[0m open_file_obj \u001b[38;5;241m=\u001b[39m \u001b[38;5;28;43mcls\u001b[39;49m\u001b[38;5;241;43m.\u001b[39;49m\u001b[43m__resolve_file_obj\u001b[49m\u001b[43m(\u001b[49m\u001b[43mpath\u001b[49m\u001b[43m,\u001b[49m\u001b[43m \u001b[49m\u001b[43mfile_obj\u001b[49m\u001b[43m,\u001b[49m\u001b[43m \u001b[49m\u001b[43mdriver\u001b[49m\u001b[43m)\u001b[49m\n\u001b[0;32m    170\u001b[0m \u001b[38;5;28;01mif\u001b[39;00m file_obj \u001b[38;5;129;01mis\u001b[39;00m \u001b[38;5;28;01mNone\u001b[39;00m:  \u001b[38;5;66;03m# need to close the file object that we just opened\u001b[39;00m\n\u001b[0;32m    171\u001b[0m     \u001b[38;5;28;01mwith\u001b[39;00m open_file_obj:\n",
      "File \u001b[1;32m~\\AppData\\Local\\Programs\\Python\\Python310\\lib\\site-packages\\hdmf\\backends\\hdf5\\h5tools.py:144\u001b[0m, in \u001b[0;36mHDF5IO.__resolve_file_obj\u001b[1;34m(cls, path, file_obj, driver)\u001b[0m\n\u001b[0;32m    142\u001b[0m     \u001b[38;5;28;01mif\u001b[39;00m driver \u001b[38;5;129;01mis\u001b[39;00m \u001b[38;5;129;01mnot\u001b[39;00m \u001b[38;5;28;01mNone\u001b[39;00m:\n\u001b[0;32m    143\u001b[0m         file_kwargs\u001b[38;5;241m.\u001b[39mupdate(driver\u001b[38;5;241m=\u001b[39mdriver)\n\u001b[1;32m--> 144\u001b[0m     file_obj \u001b[38;5;241m=\u001b[39m File(path, \u001b[38;5;124m'\u001b[39m\u001b[38;5;124mr\u001b[39m\u001b[38;5;124m'\u001b[39m, \u001b[38;5;241m*\u001b[39m\u001b[38;5;241m*\u001b[39mfile_kwargs)\n\u001b[0;32m    145\u001b[0m \u001b[38;5;28;01mreturn\u001b[39;00m file_obj\n",
      "File \u001b[1;32m~\\AppData\\Local\\Programs\\Python\\Python310\\lib\\site-packages\\h5py\\_hl\\files.py:562\u001b[0m, in \u001b[0;36mFile.__init__\u001b[1;34m(self, name, mode, driver, libver, userblock_size, swmr, rdcc_nslots, rdcc_nbytes, rdcc_w0, track_order, fs_strategy, fs_persist, fs_threshold, fs_page_size, page_buf_size, min_meta_keep, min_raw_keep, locking, alignment_threshold, alignment_interval, meta_block_size, **kwds)\u001b[0m\n\u001b[0;32m    553\u001b[0m     fapl \u001b[38;5;241m=\u001b[39m make_fapl(driver, libver, rdcc_nslots, rdcc_nbytes, rdcc_w0,\n\u001b[0;32m    554\u001b[0m                      locking, page_buf_size, min_meta_keep, min_raw_keep,\n\u001b[0;32m    555\u001b[0m                      alignment_threshold\u001b[38;5;241m=\u001b[39malignment_threshold,\n\u001b[0;32m    556\u001b[0m                      alignment_interval\u001b[38;5;241m=\u001b[39malignment_interval,\n\u001b[0;32m    557\u001b[0m                      meta_block_size\u001b[38;5;241m=\u001b[39mmeta_block_size,\n\u001b[0;32m    558\u001b[0m                      \u001b[38;5;241m*\u001b[39m\u001b[38;5;241m*\u001b[39mkwds)\n\u001b[0;32m    559\u001b[0m     fcpl \u001b[38;5;241m=\u001b[39m make_fcpl(track_order\u001b[38;5;241m=\u001b[39mtrack_order, fs_strategy\u001b[38;5;241m=\u001b[39mfs_strategy,\n\u001b[0;32m    560\u001b[0m                      fs_persist\u001b[38;5;241m=\u001b[39mfs_persist, fs_threshold\u001b[38;5;241m=\u001b[39mfs_threshold,\n\u001b[0;32m    561\u001b[0m                      fs_page_size\u001b[38;5;241m=\u001b[39mfs_page_size)\n\u001b[1;32m--> 562\u001b[0m     fid \u001b[38;5;241m=\u001b[39m \u001b[43mmake_fid\u001b[49m\u001b[43m(\u001b[49m\u001b[43mname\u001b[49m\u001b[43m,\u001b[49m\u001b[43m \u001b[49m\u001b[43mmode\u001b[49m\u001b[43m,\u001b[49m\u001b[43m \u001b[49m\u001b[43muserblock_size\u001b[49m\u001b[43m,\u001b[49m\u001b[43m \u001b[49m\u001b[43mfapl\u001b[49m\u001b[43m,\u001b[49m\u001b[43m \u001b[49m\u001b[43mfcpl\u001b[49m\u001b[43m,\u001b[49m\u001b[43m \u001b[49m\u001b[43mswmr\u001b[49m\u001b[38;5;241;43m=\u001b[39;49m\u001b[43mswmr\u001b[49m\u001b[43m)\u001b[49m\n\u001b[0;32m    564\u001b[0m \u001b[38;5;28;01mif\u001b[39;00m \u001b[38;5;28misinstance\u001b[39m(libver, \u001b[38;5;28mtuple\u001b[39m):\n\u001b[0;32m    565\u001b[0m     \u001b[38;5;28mself\u001b[39m\u001b[38;5;241m.\u001b[39m_libver \u001b[38;5;241m=\u001b[39m libver\n",
      "File \u001b[1;32m~\\AppData\\Local\\Programs\\Python\\Python310\\lib\\site-packages\\h5py\\_hl\\files.py:235\u001b[0m, in \u001b[0;36mmake_fid\u001b[1;34m(name, mode, userblock_size, fapl, fcpl, swmr)\u001b[0m\n\u001b[0;32m    233\u001b[0m     \u001b[38;5;28;01mif\u001b[39;00m swmr \u001b[38;5;129;01mand\u001b[39;00m swmr_support:\n\u001b[0;32m    234\u001b[0m         flags \u001b[38;5;241m|\u001b[39m\u001b[38;5;241m=\u001b[39m h5f\u001b[38;5;241m.\u001b[39mACC_SWMR_READ\n\u001b[1;32m--> 235\u001b[0m     fid \u001b[38;5;241m=\u001b[39m \u001b[43mh5f\u001b[49m\u001b[38;5;241;43m.\u001b[39;49m\u001b[43mopen\u001b[49m\u001b[43m(\u001b[49m\u001b[43mname\u001b[49m\u001b[43m,\u001b[49m\u001b[43m \u001b[49m\u001b[43mflags\u001b[49m\u001b[43m,\u001b[49m\u001b[43m \u001b[49m\u001b[43mfapl\u001b[49m\u001b[38;5;241;43m=\u001b[39;49m\u001b[43mfapl\u001b[49m\u001b[43m)\u001b[49m\n\u001b[0;32m    236\u001b[0m \u001b[38;5;28;01melif\u001b[39;00m mode \u001b[38;5;241m==\u001b[39m \u001b[38;5;124m'\u001b[39m\u001b[38;5;124mr+\u001b[39m\u001b[38;5;124m'\u001b[39m:\n\u001b[0;32m    237\u001b[0m     fid \u001b[38;5;241m=\u001b[39m h5f\u001b[38;5;241m.\u001b[39mopen(name, h5f\u001b[38;5;241m.\u001b[39mACC_RDWR, fapl\u001b[38;5;241m=\u001b[39mfapl)\n",
      "File \u001b[1;32mh5py\\_objects.pyx:54\u001b[0m, in \u001b[0;36mh5py._objects.with_phil.wrapper\u001b[1;34m()\u001b[0m\n",
      "File \u001b[1;32mh5py\\_objects.pyx:55\u001b[0m, in \u001b[0;36mh5py._objects.with_phil.wrapper\u001b[1;34m()\u001b[0m\n",
      "File \u001b[1;32mh5py\\h5f.pyx:102\u001b[0m, in \u001b[0;36mh5py.h5f.open\u001b[1;34m()\u001b[0m\n",
      "\u001b[1;31mFileNotFoundError\u001b[0m: [Errno 2] Unable to synchronously open file (unable to open file: name = 'old_file.nwb', errno = 2, error message = 'No such file or directory', flags = 0, o_flags = 0)"
     ]
    }
   ],
   "source": [
    "# Open nwb file\n",
    "io = NWBHDF5IO(old_file, mode=\"r\")\n",
    "nwbfile = io.read()\n",
    "\n",
    "# Grab existing object's ImagingVolume\n",
    "calc_imaging_vol = nwbfile.processing['CalciumActivity'].data_interfaces['TrackedNeurons'].plane_segmentations['TrackedNeuronROIs'].imaging_plane\n",
    "\n",
    "# Remove existing object in file\n",
    "nwbfile.processing['CalciumActivity'].data_interfaces.pop('TrackedNeurons')\n",
    "\n",
    "# Create neuron track objects...\n",
    "NeuroPALTracks = ImageSegmentation(\n",
    "    name='TrackedNeurons',\n",
    ")\n",
    "\n",
    "trackIDs = PlaneSegmentation(\n",
    "    name='TrackedNeuronROIs',\n",
    "    description='Neuron centers as tracked throughout GCaMP video. Formatted as (x, y, z, t)',\n",
    "    imaging_plane=calc_imaging_vol,\n",
    ")\n",
    "\n",
    "# ...add ROIs...\n",
    "for eachNeuron in range(len(x)):\n",
    "    trackIDs.add_roi(voxel_mask=[[x[eachNeuron], y[eachNeuron], z[eachNeuron], t[eachNeuron]]])\n",
    "\n",
    "# ...add neuron IDs...\n",
    "label = []\n",
    "for eachNeuron in range(len(x)):\n",
    "    label.append(wlid[eachNeuron])\n",
    "\n",
    "trackIDs.add_column(\n",
    "    name='TrackedNeuronIDs',\n",
    "    description='Neuron ID labels for tracked neuron rois.',\n",
    "    data=label,\n",
    "    index=False,\n",
    ")\n",
    "\n",
    "print(f\"Pre-export:\\n{type(trackIDs.voxel_mask.data[0][0])}\\n{trackIDs.voxel_mask.data}\")\n",
    "\n",
    "# ...save to parent object\n",
    "NeuroPALTracks.add_plane_segmentation(trackIDs)\n",
    "\n",
    "# Save objects to cached nwbfile.\n",
    "nwbfile.processing['CalciumActivity'].add(NeuroPALTracks)\n",
    "\n",
    "# Save changes to file.\n",
    "nwbfile.set_modified()\n",
    "\n",
    "with NWBHDF5IO(new_file, mode='w') as export_io:\n",
    "    export_io.export(src_io=io, nwbfile=nwbfile)"
   ]
  },
  {
   "cell_type": "code",
   "execution_count": null,
   "id": "a9b181ea",
   "metadata": {},
   "outputs": [],
   "source": [
    "test_io = NWBHDF5IO(new_file, mode=\"r\")\n",
    "test_file = test_io.read()\n",
    "pos_data = test_file.processing['CalciumActivity'].data_interfaces['TrackedNeurons'].plane_segmentations['TrackedNeuronROIs'].voxel_mask.data\n",
    "print(f\"Post-export:\\n{type(pos_data[0][0])}\\n{pos_data[:]}\")"
   ]
  }
 ],
 "metadata": {
  "kernelspec": {
   "display_name": "Python 3 (ipykernel)",
   "language": "python",
   "name": "python3"
  },
  "language_info": {
   "codemirror_mode": {
    "name": "ipython",
    "version": 3
   },
   "file_extension": ".py",
   "mimetype": "text/x-python",
   "name": "python",
   "nbconvert_exporter": "python",
   "pygments_lexer": "ipython3",
   "version": "3.10.10"
  }
 },
 "nbformat": 4,
 "nbformat_minor": 5
}
