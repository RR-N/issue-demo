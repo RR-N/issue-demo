{
 "cells": [
  {
   "cell_type": "code",
   "execution_count": 1,
   "id": "0869fe52",
   "metadata": {},
   "outputs": [],
   "source": [
    "import os\n",
    "import sys\n",
    "import h5py\n",
    "import numpy as np\n",
    "import pandas as pd\n",
    "\n",
    "from pynwb import NWBFile, NWBHDF5IO\n",
    "from pynwb.ophys import ImageSegmentation, PlaneSegmentation"
   ]
  },
  {
   "cell_type": "code",
   "execution_count": 2,
   "id": "90680a9b",
   "metadata": {},
   "outputs": [],
   "source": [
    "pos_array = np.random.uniform(0, 1, size=(4, 3)).astype(np.float32)\n",
    "\n",
    "x = pos_array[:, 0]\n",
    "y = pos_array[:, 1]\n",
    "z = pos_array[:, 2]\n",
    "t = np.arange(0, 4)\n",
    "\n",
    "wlid = ['Name 1', 'Name 2', 'Name 3', 'Name 4']\n",
    "\n",
    "old_file = 'old_file.nwb'\n",
    "new_file = 'new_file.nwb'"
   ]
  },
  {
   "cell_type": "code",
   "execution_count": 3,
   "id": "ca551214",
   "metadata": {},
   "outputs": [
    {
     "name": "stdout",
     "output_type": "stream",
     "text": [
      "Pre-export:\n",
      "<class 'numpy.float32'>\n",
      "[[0.6547672, 0.16965014, 0.8502428, 0], [0.6855746, 0.81943226, 0.65897053, 1], [0.10625519, 0.97542685, 0.2811191, 2], [0.76328385, 0.28713706, 0.63185674, 3]]\n"
     ]
    }
   ],
   "source": [
    "# Open nwb file\n",
    "io = NWBHDF5IO(old_file, mode=\"r\")\n",
    "nwbfile = io.read()\n",
    "\n",
    "# Grab existing object's ImagingVolume\n",
    "calc_imaging_vol = nwbfile.processing['CalciumActivity'].data_interfaces['TrackedNeurons'].plane_segmentations['TrackedNeuronROIs'].imaging_plane\n",
    "\n",
    "# Remove existing object in file\n",
    "nwbfile.processing['CalciumActivity'].data_interfaces.pop('TrackedNeurons')\n",
    "\n",
    "# Create neuron track objects...\n",
    "NeuroPALTracks = ImageSegmentation(\n",
    "    name='TrackedNeurons',\n",
    ")\n",
    "\n",
    "trackIDs = PlaneSegmentation(\n",
    "    name='TrackedNeuronROIs',\n",
    "    description='Neuron centers as tracked throughout GCaMP video. Formatted as (x, y, z, t)',\n",
    "    imaging_plane=calc_imaging_vol,\n",
    ")\n",
    "\n",
    "# ...add ROIs...\n",
    "for eachNeuron in range(len(x)):\n",
    "    trackIDs.add_roi(voxel_mask=[[x[eachNeuron], y[eachNeuron], z[eachNeuron], t[eachNeuron]]])\n",
    "\n",
    "# ...add neuron IDs...\n",
    "label = []\n",
    "for eachNeuron in range(len(x)):\n",
    "    label.append(wlid[eachNeuron])\n",
    "\n",
    "trackIDs.add_column(\n",
    "    name='TrackedNeuronIDs',\n",
    "    description='Neuron ID labels for tracked neuron rois.',\n",
    "    data=label,\n",
    "    index=False,\n",
    ")\n",
    "\n",
    "# ...save to parent object\n",
    "NeuroPALTracks.add_plane_segmentation(trackIDs)\n",
    "\n",
    "# Save objects to cached nwbfile.\n",
    "nwbfile.processing['CalciumActivity'].add(NeuroPALTracks)\n",
    "\n",
    "print(f\"Pre-export:\\n{type(nwbfile.processing['CalciumActivity'].data_interfaces['TrackedNeurons'].plane_segmentations['TrackedNeuronROIs'].voxel_mask.data[0][0])}\\n{nwbfile.processing['CalciumActivity'].data_interfaces['TrackedNeurons'].plane_segmentations['TrackedNeuronROIs'].voxel_mask.data}\")\n",
    "\n",
    "# Save changes to file.\n",
    "nwbfile.set_modified()\n",
    "\n",
    "with NWBHDF5IO(new_file, mode='w') as export_io:\n",
    "    export_io.export(src_io=io, nwbfile=nwbfile)"
   ]
  },
  {
   "cell_type": "code",
   "execution_count": 4,
   "id": "a9b181ea",
   "metadata": {},
   "outputs": [
    {
     "name": "stdout",
     "output_type": "stream",
     "text": [
      "Post-export:\n",
      "<class 'numpy.uint32'>\n",
      "[(0, 0, 0, 0.) (0, 0, 0, 1.) (0, 0, 0, 2.) (0, 0, 0, 3.)]\n"
     ]
    }
   ],
   "source": [
    "test_io = NWBHDF5IO(new_file, mode=\"r\")\n",
    "test_file = test_io.read()\n",
    "pos_data = test_file.processing['CalciumActivity'].data_interfaces['TrackedNeurons'].plane_segmentations['TrackedNeuronROIs'].voxel_mask.data\n",
    "print(f\"Post-export:\\n{type(pos_data[0][0])}\\n{pos_data[:]}\")"
   ]
  }
 ],
 "metadata": {
  "kernelspec": {
   "display_name": "Python 3 (ipykernel)",
   "language": "python",
   "name": "python3"
  },
  "language_info": {
   "codemirror_mode": {
    "name": "ipython",
    "version": 3
   },
   "file_extension": ".py",
   "mimetype": "text/x-python",
   "name": "python",
   "nbconvert_exporter": "python",
   "pygments_lexer": "ipython3",
   "version": "3.10.10"
  }
 },
 "nbformat": 4,
 "nbformat_minor": 5
}
